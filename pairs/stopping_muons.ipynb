{
 "cells": [
  {
   "cell_type": "code",
   "execution_count": 1,
   "metadata": {},
   "outputs": [],
   "source": [
    "import pandas as pd  #pacotes\n",
    "import numpy as np   #calculo numerico\n",
    "import glob          #listas\n",
    "#Codigo para declarar um pyarrow parquet - Willian - 29/05/2018\n",
    "import pyarrow.parquet as pq\n",
    "#uproot serve para ler a partir o python um arquivo em tree root\n",
    "#import uproot\n",
    "import os, sys\n",
    "from os import path\n",
    "import datetime\n",
    "import matplotlib as mp\n",
    "import matplotlib.pyplot as plt\n",
    "from scipy import optimize\n",
    "from scipy.optimize import curve_fit\n",
    "from matplotlib.colors import BoundaryNorm\n",
    "%matplotlib inline"
   ]
  },
  {
   "cell_type": "markdown",
   "metadata": {},
   "source": [
    "## MEDIDAS COM TEMPO ABAIXO DE 5us (STOPPING MUONS)"
   ]
  },
  {
   "cell_type": "code",
   "execution_count": 2,
   "metadata": {},
   "outputs": [],
   "source": [
    "%run def_functions.ipynb\n",
    "%run def_functions_hits.ipynb\n",
    "%run def_functions_fits.ipynb\n"
   ]
  },
  {
   "cell_type": "code",
   "execution_count": 3,
   "metadata": {},
   "outputs": [],
   "source": [
    "\n",
    "# para 4 x 7 dias\n",
    "\n",
    "list_ON1 = ['20200820','20200821','20200822','20200823','20200824','20200825','20200826']\n",
    "list_ON2 = ['20200827','20200828','20200829','20200830','20200831','20200901','20200902']\n",
    "list_ON3 = ['20200903','20200904','20200905','20200906','20200907','20200908','20200909']\n",
    "list_ON4 = ['20200910','20200911','20200912','20200913','20200924','20200925','20200926']\n",
    "#           '20200927','20200928'\n",
    "\n",
    "list_OFF1 = ['20200624','20200625','20200626','20200627','20200628','20200629','20200630']\n",
    "list_OFF2 = ['20200701','20200702','20200703','20200704','20200705','20200706','20200707']\n",
    "list_OFF3 = ['20200708','20200709','20200710','20200711','20200712','20200713','20200714']\n",
    "list_OFF4 = ['20200715','20200716','20200717','20200718','20200719','20200720','20200721']\n",
    "#            '20200722','20200723'\n",
    "\n",
    "list_ONO1 = ['20201001','20201002','20201003','20201004','20201005','20201006','20201007']\n",
    "list_ONO2 = ['20201008','20201009','20201010','20201011','20201012','20201013','20201014']\n",
    "list_ONO3 = ['20201015','20201016','20201017','20201018','20201019','20201020','20201021']\n",
    "list_ONO4 = ['20201022','20201023','20201024','20201025','20201026','20201027','20201028']\n",
    "#            '20201029','20201030'\n"
   ]
  },
  {
   "cell_type": "code",
   "execution_count": 4,
   "metadata": {},
   "outputs": [],
   "source": [
    "#chi_sq_tab = 2.366  # chi quadrado tabelado para 3 graus de liberdades com 50%\n",
    "#chi_sq_tab = 6.251  # chi quadrado tabelado para 3 graus de liberdades com 90%\n",
    "chi_sq_tab = 7.815  # chi quadrado tabelado para 3 graus de liberdades com 95%\n",
    "#chi_sq_tab = 10.597  # chi quadrado tabelado para 3 graus de liberdades com 995%\n",
    "rh, rw = 150, 150\n",
    "prompt_mean, prompt_var = 61.45215100965759, 1337.7332240825515\n",
    "delay_mean, delay_var = 94.3970297029703, 4899.284941672385 \n",
    "time_mean, time_var = 12.70, 12.70\n",
    "itime_mean, itime_var = 1/12.70, 1/(12.70**2)\n",
    "\n",
    "IBD_Esperado = 6610 #eventos por dia\n"
   ]
  },
  {
   "cell_type": "markdown",
   "metadata": {},
   "source": [
    "## Função para processar lista"
   ]
  },
  {
   "cell_type": "code",
   "execution_count": 88,
   "metadata": {},
   "outputs": [],
   "source": [
    "def fnt_process_list_PD (p_list, p_h_PDP, p_h_PDD, p_h_PDT, p_h_MUP, p_h_MUD, p_h_DPMTs):\n",
    "    p_totalMuons = 0\n",
    "    p_totalNonSat = 0\n",
    "    \n",
    "    print('fnt_process_list_PD - v3')\n",
    "\n",
    "    for sListDt in p_list:\n",
    "        yyyy=int(sListDt[0:4]); mm=int(sListDt[4:6]); dd=int(sListDt[6:8])\n",
    "    \n",
    "        sDate = '{0:d}-{1:0>2d}-{2:0>2d}'.format(yyyy,mm,dd)\n",
    "        sDir='data/{0:d}{1:0>2d}{2:0>2d}'.format(yyyy,mm,dd)\n",
    "        print(sDir)\n",
    "        lista = find_interval_date_pair(sDate,sDate,sDir)\n",
    "\n",
    "        for file in lista:\n",
    "            df = pd.read_parquet(file)\n",
    "            dff = df[#(df['p_satured']==0)&(df['d_satured']==0)\n",
    "                            #&(fnt_pe2MeV(df['p_Total_pe'])>=3)&(fnt_pe2MeV(df['p_Total_pe'])<=10)\n",
    "                            #&(fnt_pe2MeV(df['d_Total_pe'])>=1.6)&(fnt_pe2MeV(df['d_Total_pe'])<=7.12)\n",
    "                            #&(df['d_timeInverval']>=8)&(df['d_timeInverval']<=50)\n",
    "                            #&\n",
    "                            (df['d_timeInverval']<=6)\n",
    "                           # &(df['d_mPMTs']>=25)\n",
    "                    ]\n",
    "            p_h_PDP.extend(dff['p_Total_pe'].values)\n",
    "            p_h_MUP.extend(dff['p_mPMTs'].values)\n",
    "            p_h_PDD.extend(dff['d_Total_pe'].values)\n",
    "            p_h_MUD.extend(dff['d_mPMTs'].values)\n",
    "            p_h_PDT.extend(dff['d_timeInverval'].values)\n",
    "            \n",
    "            #print('d_timeInverval = ',dff['d_timeInverval'].head(1))\n",
    "            \n",
    "            for iPMT in range(32):\n",
    "                siPMT = '{0:0>2d}'.format(iPMT+1)\n",
    "                #print(siPMT)\n",
    "                p_h_DPMTs[iPMT].extend(dff['d_PMT'+siPMT].values)\n",
    "                #aqui as PMTs estão em DUQ e batem com d_Total_charge \n",
    "                #pode haver valores negativos, que não entram na conta do d_Total_charge\n",
    "                #d_Total_pe = d_Total_charge / 77,96\n",
    "                \n",
    "                #print('d_PMT'+siPMT+' = ',dff['d_PMT'+siPMT].head(1))\n",
    "                \n",
    "            #print('d_Total_charge = ',dff['d_Total_charge'].head(1))\n",
    "            #print('d_Total_pe = ',dff['d_Total_pe'].head(1))\n",
    "            \n",
    "\n",
    "            dfns = df[(df['p_satured']==0)&(df['d_satured']==0)]\n",
    "\n",
    "            p_totalMuons += df.count()[0]\n",
    "            p_totalNonSat += dfns.count()[0]\n",
    "\n",
    "            #break\n",
    "\n",
    "    return p_totalMuons, p_totalNonSat\n"
   ]
  },
  {
   "cell_type": "code",
   "execution_count": 115,
   "metadata": {},
   "outputs": [],
   "source": [
    "def fnt_process_list_PD_2 (p_list, p_h_PDP, p_h_PDD, p_h_PDT, p_h_MUP, p_h_MUD, p_h_DPMTs):\n",
    "    p_totalMuons = 0\n",
    "    p_totalNonSat = 0\n",
    "    \n",
    "    print('fnt_process_list_PD_2 - v3')\n",
    "\n",
    "    for sListDt in p_list:\n",
    "        yyyy=int(sListDt[0:4]); mm=int(sListDt[4:6]); dd=int(sListDt[6:8])\n",
    "    \n",
    "        sDate = '{0:d}-{1:0>2d}-{2:0>2d}'.format(yyyy,mm,dd)\n",
    "        sDir='data/{0:d}{1:0>2d}{2:0>2d}'.format(yyyy,mm,dd)\n",
    "        print(sDir)\n",
    "        lista = find_interval_date_pair(sDate,sDate,sDir)\n",
    "\n",
    "        for file in lista:\n",
    "            df = pd.read_parquet(file)\n",
    "            dff = df[(df['d_timeInverval']>6)&(df['d_timeInverval']<=12)]\n",
    "            p_h_PDP.extend(dff['p_Total_pe'].values)\n",
    "            p_h_MUP.extend(dff['p_mPMTs'].values)\n",
    "            p_h_PDD.extend(dff['d_Total_pe'].values)\n",
    "            p_h_MUD.extend(dff['d_mPMTs'].values)\n",
    "            p_h_PDT.extend(dff['d_timeInverval'].values)\n",
    "            \n",
    "            #print('d_timeInverval = ',dff['d_timeInverval'].head(1))\n",
    "            \n",
    "            for iPMT in range(32):\n",
    "                siPMT = '{0:0>2d}'.format(iPMT+1)\n",
    "                #print(siPMT)\n",
    "                p_h_DPMTs[iPMT].extend(dff['d_PMT'+siPMT].values)\n",
    "                #aqui as PMTs estão em DUQ e batem com d_Total_charge \n",
    "                #pode haver valores negativos, que não entram na conta do d_Total_charge\n",
    "                #d_Total_pe = d_Total_charge / 77,96\n",
    "                \n",
    "                #print('d_PMT'+siPMT+' = ',dff['d_PMT'+siPMT].head(1))\n",
    "                \n",
    "            #print('d_Total_charge = ',dff['d_Total_charge'].head(1))\n",
    "            #print('d_Total_pe = ',dff['d_Total_pe'].head(1))\n",
    "            \n",
    "\n",
    "            dfns = df[(df['p_satured']==0)&(df['d_satured']==0)]\n",
    "\n",
    "            p_totalMuons += df.count()[0]\n",
    "            p_totalNonSat += dfns.count()[0]\n",
    "\n",
    "            #break\n",
    "\n",
    "    return p_totalMuons, p_totalNonSat\n"
   ]
  },
  {
   "cell_type": "code",
   "execution_count": 129,
   "metadata": {},
   "outputs": [],
   "source": [
    "def fnt_process_list_PD_3 (p_list, p_h_PDP, p_h_PDD, p_h_PDT, p_h_MUP, p_h_MUD, p_h_DPMTs, i_Sub): \n",
    "    #i_Sub = 1: t<6; i_Sub = 2: 6<t<12\n",
    "    \n",
    "    p_totalMuons = 0\n",
    "    p_totalNonSat = 0\n",
    "    \n",
    "    print('fnt_process_list_PD_3 - v3, i_Sub = ',i_Sub)\n",
    "\n",
    "    for sListDt in p_list:\n",
    "        yyyy=int(sListDt[0:4]); mm=int(sListDt[4:6]); dd=int(sListDt[6:8])\n",
    "    \n",
    "        sDate = '{0:d}-{1:0>2d}-{2:0>2d}'.format(yyyy,mm,dd)\n",
    "        sDir='data/{0:d}{1:0>2d}{2:0>2d}'.format(yyyy,mm,dd)\n",
    "        print(sDir)\n",
    "        lista = find_interval_date_pair(sDate,sDate,sDir)\n",
    "\n",
    "        for file in lista:\n",
    "            df = pd.read_parquet(file)\n",
    "            if (i_Sub==1):\n",
    "                dff = df[(df['p_Total_charge']>50000)&(df['p_Total_charge']<75000)\n",
    "                     &(df['d_timeInverval']<6)]\n",
    "            else:\n",
    "                dff = df[(df['p_Total_charge']>50000)&(df['p_Total_charge']<75000)\n",
    "                     &(df['d_timeInverval']>6)&(df['d_timeInverval']<12)]\n",
    "            p_h_PDP.extend(dff['p_Total_pe'].values)\n",
    "            p_h_MUP.extend(dff['p_mPMTs'].values)\n",
    "            p_h_PDD.extend(dff['d_Total_pe'].values)\n",
    "            p_h_MUD.extend(dff['d_mPMTs'].values)\n",
    "            p_h_PDT.extend(dff['d_timeInverval'].values)\n",
    "            \n",
    "            #print('d_timeInverval = ',dff['d_timeInverval'].head(1))\n",
    "            \n",
    "            for iPMT in range(32):\n",
    "                siPMT = '{0:0>2d}'.format(iPMT+1)\n",
    "                #print(siPMT)\n",
    "                p_h_DPMTs[iPMT].extend(dff['d_PMT'+siPMT].values)\n",
    "                #aqui as PMTs estão em DUQ e batem com d_Total_charge \n",
    "                #pode haver valores negativos, que não entram na conta do d_Total_charge\n",
    "                #d_Total_pe = d_Total_charge / 77,96\n",
    "                \n",
    "                #print('d_PMT'+siPMT+' = ',dff['d_PMT'+siPMT].head(1))\n",
    "                \n",
    "            #print('d_Total_charge = ',dff['d_Total_charge'].head(1))\n",
    "            #print('d_Total_pe = ',dff['d_Total_pe'].head(1))\n",
    "            \n",
    "\n",
    "            dfns = df[(df['p_satured']==0)&(df['d_satured']==0)]\n",
    "\n",
    "            p_totalMuons += df.count()[0]\n",
    "            p_totalNonSat += dfns.count()[0]\n",
    "\n",
    "            #break\n",
    "\n",
    "    return p_totalMuons, p_totalNonSat\n"
   ]
  },
  {
   "cell_type": "markdown",
   "metadata": {},
   "source": [
    "## Salvar e carregar Listas ON / OFF"
   ]
  },
  {
   "cell_type": "code",
   "execution_count": 16,
   "metadata": {},
   "outputs": [],
   "source": [
    "##save values - h_Sig_OFF2 (contém o sigma de cada bin dividido por 5dias)\n",
    "def save_PD (dh_PDP, dh_MUP, dh_PDD, dh_MUD, dh_PDT, dh_DPMT, sName):\n",
    "    # dictionary of lists\n",
    "    dict = {'dh_PDP': dh_PDP,\n",
    "            'dh_MUP': dh_MUP,\n",
    "            'dh_PDD': dh_PDD,\n",
    "            'dh_MUD': dh_MUD,\n",
    "            'dh_PDT': dh_PDT,\n",
    "            'dh_DPMT': dh_DPMT}\n",
    "    \n",
    "    # creating a dataframe from dictionary\n",
    "    dfw = pd.DataFrame(dict)\n",
    "    dfw.to_parquet('data/Analise_ONOFF/'+sName+'.parq', compression='gzip')\n",
    "\n",
    "    del dict\n",
    "    \n",
    "##load values\n",
    "def load_PD (sName): #(dh_PDP, dh_PDD, dh_PDT, dh_DPMT, sName):\n",
    "    dfr = pd.read_parquet('data/Analise_ONOFF/'+sName+'.parq')\n",
    "    return(dfr['dh_PDP'].values, dfr['dh_MUP'].values, dfr['dh_PDD'].values, dfr['dh_MUD'].values, dfr['dh_PDT'].values, dfr['dh_DPMT'].values)\n",
    "\n",
    "    "
   ]
  },
  {
   "cell_type": "markdown",
   "metadata": {},
   "source": [
    "## Processamento para OFF1"
   ]
  },
  {
   "cell_type": "code",
   "execution_count": 14,
   "metadata": {},
   "outputs": [
    {
     "name": "stdout",
     "output_type": "stream",
     "text": [
      "[[0], [1], [2], [3], [4], [5], [6], [7], [8], [9], [10], [11], [12], [13], [14], [15], [16], [17], [18], [19], [20], [21], [22], [23], [24], [25], [26], [27], [28], [29], [30], [31]]\n"
     ]
    }
   ],
   "source": [
    "h_DPMT_OFF1 = [[] for i in range(32)]\n",
    "for iPMT in range(32):\n",
    "    siPMT = '{0:0>2d}'.format(iPMT+1)\n",
    "   # print(siPMT)\n",
    "    h_DPMT_OFF1[iPMT].extend([iPMT])\n",
    "print(h_DPMT_OFF1)"
   ]
  },
  {
   "cell_type": "code",
   "execution_count": 89,
   "metadata": {},
   "outputs": [
    {
     "name": "stdout",
     "output_type": "stream",
     "text": [
      "Inicio 2023-12-21 17:49:41.357601\n",
      "fnt_process_list_PD - v3\n",
      "data/20200701\n",
      "68763\n",
      "Em  1  dias:  16823250\n",
      "Por dia:  16823250.0\n",
      "Em  1  dias (NS):  10588204\n",
      "Por dia (NS):  10588204.0\n",
      "Fim 2023-12-21 17:54:13.203965\n"
     ]
    }
   ],
   "source": [
    "print('Inicio',datetime.datetime.now())\n",
    "\n",
    "h_PDP_OFF1 = []\n",
    "h_MUP_OFF1 = []\n",
    "h_PDD_OFF1 = []\n",
    "h_MUD_OFF1 = []\n",
    "h_PDT_OFF1 = []\n",
    "h_DPMT_OFF1 = [[] for i in range(32)]\n",
    "totalMuons_OFF1 = 0\n",
    "totalNonSat_OFF1 = 0\n",
    "\n",
    "list_OFF1 = ['20200701']\n",
    "totalMuons_OFF1, totalNonSat_OFF1 = fnt_process_list_PD(list_OFF1, h_PDP_OFF1, h_PDD_OFF1, h_PDT_OFF1, h_MUP_OFF1, h_MUD_OFF1, h_DPMT_OFF1)\n",
    "                            \n",
    "print(len(h_PDP_OFF1))\n",
    "print('Em ',len(list_OFF1),' dias: ',totalMuons_OFF1)\n",
    "print('Por dia: ',totalMuons_OFF1/len(list_OFF1))\n",
    "print('Em ',len(list_OFF1),' dias (NS): ',totalNonSat_OFF1)\n",
    "print('Por dia (NS): ',totalNonSat_OFF1/len(list_OFF1))\n",
    "\n",
    "        \n",
    "print('Fim',datetime.datetime.now())"
   ]
  },
  {
   "cell_type": "code",
   "execution_count": 90,
   "metadata": {},
   "outputs": [
    {
     "name": "stdout",
     "output_type": "stream",
     "text": [
      "Inicio 2023-12-21 17:54:13.375086\n",
      "fnt_process_list_PD - v3\n",
      "data/20201001\n",
      "66735\n",
      "Em  1  dias:  16444875\n",
      "Por dia:  16444875.0\n",
      "Em  1  dias (NS):  10653050\n",
      "Por dia (NS):  10653050.0\n",
      "Fim 2023-12-21 17:58:47.250924\n"
     ]
    }
   ],
   "source": [
    "print('Inicio',datetime.datetime.now())\n",
    "\n",
    "h_PDP_ON1 = []\n",
    "h_MUP_ON1 = []\n",
    "h_PDD_ON1 = []\n",
    "h_MUD_ON1 = []\n",
    "h_PDT_ON1 = []\n",
    "h_DPMT_ON1 = [[] for i in range(32)]  ## contém single photoelectron (SPE) de cada PMT\n",
    "totalMuons_ON1 = 0\n",
    "totalNonSat_ON1 = 0\n",
    "\n",
    "list_ON1 = ['20201001']\n",
    "totalMuons_ON1, totalNonSat_ON1 = fnt_process_list_PD(list_ON1, h_PDP_ON1, h_PDD_ON1, h_PDT_ON1, h_MUP_ON1, h_MUD_ON1, h_DPMT_ON1)\n",
    "                            \n",
    "print(len(h_PDP_ON1))\n",
    "print('Em ',len(list_ON1),' dias: ',totalMuons_ON1)\n",
    "print('Por dia: ',totalMuons_ON1/len(list_ON1))\n",
    "print('Em ',len(list_ON1),' dias (NS): ',totalNonSat_ON1)\n",
    "print('Por dia (NS): ',totalNonSat_ON1/len(list_ON1))\n",
    "\n",
    "        \n",
    "print('Fim',datetime.datetime.now())"
   ]
  },
  {
   "cell_type": "code",
   "execution_count": 124,
   "metadata": {},
   "outputs": [
    {
     "name": "stdout",
     "output_type": "stream",
     "text": [
      "Inicio 2023-12-22 02:39:06.512685\n",
      "fnt_process_list_PD_3 - v3\n",
      "data/20201001\n",
      "1529\n",
      "Em  1  dias:  16444875\n",
      "Por dia:  16444875.0\n",
      "Em  1  dias (NS):  10653050\n",
      "Por dia (NS):  10653050.0\n",
      "Fim 2023-12-22 02:43:47.723721\n"
     ]
    }
   ],
   "source": [
    "print('Inicio',datetime.datetime.now())\n",
    "\n",
    "h_PDP_ON1_2 = []\n",
    "h_MUP_ON1_2 = []\n",
    "h_PDD_ON1_2 = []\n",
    "h_MUD_ON1_2 = []\n",
    "h_PDT_ON1_2 = []\n",
    "h_DPMT_ON1_2 = [[] for i in range(32)]  ## contém single photoelectron (SPE) de cada PMT\n",
    "totalMuons_ON1_2 = 0\n",
    "totalNonSat_ON1_2 = 0\n",
    "\n",
    "list_ON1_2 = ['20201001']\n",
    "totalMuons_ON1_2, totalNonSat_ON1_2 = fnt_process_list_PD_3(list_ON1_2, h_PDP_ON1_2, h_PDD_ON1_2, h_PDT_ON1_2, h_MUP_ON1_2, h_MUD_ON1_2, h_DPMT_ON1_2, 2)\n",
    "                            \n",
    "print(len(h_PDP_ON1_2))\n",
    "print('Em ',len(list_ON1_2),' dias: ',totalMuons_ON1_2)\n",
    "print('Por dia: ',totalMuons_ON1_2/len(list_ON1_2))\n",
    "print('Em ',len(list_ON1_2),' dias (NS): ',totalNonSat_ON1_2)\n",
    "print('Por dia (NS): ',totalNonSat_ON1_2/len(list_ON1_2))\n",
    "\n",
    "        \n",
    "print('Fim',datetime.datetime.now())"
   ]
  },
  {
   "cell_type": "code",
   "execution_count": 130,
   "metadata": {},
   "outputs": [
    {
     "name": "stdout",
     "output_type": "stream",
     "text": [
      "Inicio 2023-12-22 02:51:52.275414\n",
      "fnt_process_list_PD_3 - v3, i_Sub =  1\n",
      "data/20201001\n",
      "3191\n",
      "Em  1  dias:  16444875\n",
      "Por dia:  16444875.0\n",
      "Em  1  dias (NS):  10653050\n",
      "Por dia (NS):  10653050.0\n",
      "Fim 2023-12-22 02:56:13.608320\n"
     ]
    }
   ],
   "source": [
    "print('Inicio',datetime.datetime.now())\n",
    "\n",
    "h_PDP_ON1_1 = []\n",
    "h_MUP_ON1_1 = []\n",
    "h_PDD_ON1_1 = []\n",
    "h_MUD_ON1_1 = []\n",
    "h_PDT_ON1_1 = []\n",
    "h_DPMT_ON1_1 = [[] for i in range(32)]  ## contém single photoelectron (SPE) de cada PMT\n",
    "totalMuons_ON1_1 = 0\n",
    "totalNonSat_ON1_1 = 0\n",
    "\n",
    "list_ON1_1 = ['20201001']\n",
    "totalMuons_ON1_1, totalNonSat_ON1_1 = fnt_process_list_PD_3(list_ON1_1, h_PDP_ON1_1, h_PDD_ON1_1, h_PDT_ON1_1, h_MUP_ON1_1, h_MUD_ON1_1, h_DPMT_ON1_1, 1)\n",
    "                            \n",
    "print(len(h_PDP_ON1_1))\n",
    "print('Em ',len(list_ON1_1),' dias: ',totalMuons_ON1_1)\n",
    "print('Por dia: ',totalMuons_ON1_1/len(list_ON1_1))\n",
    "print('Em ',len(list_ON1_1),' dias (NS): ',totalNonSat_ON1_1)\n",
    "print('Por dia (NS): ',totalNonSat_ON1_1/len(list_ON1_1))\n",
    "\n",
    "        \n",
    "print('Fim',datetime.datetime.now())"
   ]
  },
  {
   "cell_type": "markdown",
   "metadata": {},
   "source": [
    "## Segunda análise para 10 dias"
   ]
  },
  {
   "cell_type": "code",
   "execution_count": 93,
   "metadata": {},
   "outputs": [
    {
     "name": "stdout",
     "output_type": "stream",
     "text": [
      "Inicio 2023-12-21 18:04:05.423872\n",
      "fnt_process_list_PD - v3\n",
      "data/20201001\n",
      "data/20201002\n",
      "data/20201003\n",
      "data/20201004\n",
      "data/20201005\n",
      "data/20201006\n",
      "data/20201007\n",
      "data/20201008\n",
      "data/20201009\n",
      "data/20201010\n",
      "652255\n",
      "Em  10  dias:  161112305\n",
      "Por dia:  16111230.5\n",
      "Em  10  dias (NS):  106113838\n",
      "Por dia (NS):  10611383.8\n",
      "Fim 2023-12-21 18:48:05.549513\n"
     ]
    }
   ],
   "source": [
    "print('Inicio',datetime.datetime.now())\n",
    "\n",
    "h_PDP_ON2 = []\n",
    "h_MUP_ON2 = []\n",
    "h_PDD_ON2 = []\n",
    "h_MUD_ON2 = []\n",
    "h_PDT_ON2 = []\n",
    "h_DPMT_ON2 = [[] for i in range(32)]  ## contém single photoelectron (SPE) de cada PMT\n",
    "totalMuons_ON2 = 0\n",
    "totalNonSat_ON2 = 0\n",
    "\n",
    "list_ON2 = ['20201001','20201002','20201003','20201004','20201005','20201006','20201007','20201008','20201009','20201010']\n",
    "totalMuons_ON2, totalNonSat_ON2 = fnt_process_list_PD(list_ON2, h_PDP_ON2, h_PDD_ON2, h_PDT_ON2, h_MUP_ON2, h_MUD_ON2, h_DPMT_ON2)\n",
    "                            \n",
    "print(len(h_PDP_ON2))\n",
    "print('Em ',len(list_ON2),' dias: ',totalMuons_ON2)\n",
    "print('Por dia: ',totalMuons_ON2/len(list_ON2))\n",
    "print('Em ',len(list_ON2),' dias (NS): ',totalNonSat_ON2)\n",
    "print('Por dia (NS): ',totalNonSat_ON2/len(list_ON2))\n",
    "\n",
    "        \n",
    "print('Fim',datetime.datetime.now())"
   ]
  },
  {
   "cell_type": "code",
   "execution_count": 94,
   "metadata": {},
   "outputs": [
    {
     "name": "stdout",
     "output_type": "stream",
     "text": [
      "Inicio 2023-12-21 18:48:05.716623\n",
      "fnt_process_list_PD - v3\n",
      "data/20200701\n",
      "data/20200702\n",
      "data/20200703\n",
      "data/20200704\n",
      "data/20200705\n",
      "data/20200706\n",
      "data/20200707\n",
      "data/20200708\n",
      "data/20200709\n",
      "data/20200710\n",
      "654865\n",
      "Em  10  dias:  165096869\n",
      "Por dia:  16509686.9\n",
      "Em  10  dias (NS):  106316773\n",
      "Por dia (NS):  10631677.3\n",
      "Fim 2023-12-21 19:32:39.305663\n"
     ]
    }
   ],
   "source": [
    "print('Inicio',datetime.datetime.now())\n",
    "\n",
    "h_PDP_OFF2 = []\n",
    "h_MUP_OFF2 = []\n",
    "h_PDD_OFF2 = []\n",
    "h_MUD_OFF2 = []\n",
    "h_PDT_OFF2 = []\n",
    "h_DPMT_OFF2 = [[] for i in range(32)]  ## contém single photoelectron (SPE) de cada PMT\n",
    "totalMuons_OFF2 = 0\n",
    "totalNonSat_OFF2 = 0\n",
    "\n",
    "list_OFF2 = ['20200701','20200702','20200703','20200704','20200705','20200706','20200707','20200708','20200709','20200710']\n",
    "totalMuons_OFF2, totalNonSat_OFF2 = fnt_process_list_PD(list_OFF2, h_PDP_OFF2, h_PDD_OFF2, h_PDT_OFF2, h_MUP_OFF2, h_MUD_OFF2, h_DPMT_OFF2)\n",
    "                            \n",
    "print(len(h_PDP_OFF2))\n",
    "print('Em ',len(list_OFF2),' dias: ',totalMuons_OFF2)\n",
    "print('Por dia: ',totalMuons_OFF2/len(list_OFF2))\n",
    "print('Em ',len(list_OFF2),' dias (NS): ',totalNonSat_OFF2)\n",
    "print('Por dia (NS): ',totalNonSat_OFF2/len(list_OFF2))\n",
    "\n",
    "        \n",
    "print('Fim',datetime.datetime.now())"
   ]
  },
  {
   "cell_type": "markdown",
   "metadata": {},
   "source": [
    "## Análises"
   ]
  },
  {
   "cell_type": "markdown",
   "metadata": {},
   "source": [
    "## 1 dia ON / OFF"
   ]
  },
  {
   "cell_type": "code",
   "execution_count": 104,
   "metadata": {},
   "outputs": [
    {
     "name": "stderr",
     "output_type": "stream",
     "text": [
      "No handles with labels found to put in legend.\n"
     ]
    },
    {
     "data": {
      "image/png": "[encoded data removed]",
      "text/plain": [
       "<matplotlib.figure.Figure at 0x1968662b6d8>"
      ]
     },
     "metadata": {},
     "output_type": "display_data"
    },
    {
     "name": "stdout",
     "output_type": "stream",
     "text": [
      "max pe ON =  1901.8086198050285\n",
      "max pe OFF =  1692.4320164186763\n",
      "10pe =  0.997 MeV\n",
      "50pe =  2.505 MeV\n",
      "100pe =  4.39 MeV\n",
      "150pe =  6.2749999999999995 MeV\n",
      "200pe =  8.159999999999998 MeV\n",
      "400pe =  15.699999999999998 MeV\n",
      "600pe =  23.24 MeV\n",
      "800pe =  30.779999999999998 MeV\n"
     ]
    }
   ],
   "source": [
    "#from matplotlib.lines import Line2D\n",
    "\n",
    "fig=plt.figure(figsize=(15,10))\n",
    "ax = fig.add_subplot(1, 1, 1)\n",
    "\n",
    "plt.rcParams.update({'font.size': 10})\n",
    "\n",
    "\n",
    "#h_histPMT = [h_DPMT_OFF1[xi] for xi in range(32)]  ## contém single photoelectron (SPE) de cada PMT\n",
    "#h_legPMT = ['PMT{0:0>2d}'.format(xi+1) for xi in range(32)]\n",
    "#legend_elements = [Line2D([0], [0], lw=1, label='PMT{0:0>2d}'.format(xi+1)) for xi in range(32)]\n",
    "\n",
    "#plt.hist(h_PDD_OFF1, bins = 90, histtype='step')\n",
    "#plt.hist(h_histPMT, bins =1200, histtype='step', label=h_legPMT)\n",
    "plt.hist([h_PDD_ON1,h_PDD_OFF1], bins =100, histtype='step', linewidth=2)\n",
    "#plt.hist([h_PDD_OFF1,h_PDP_OFF1], bins =100, histtype='step')\n",
    "plt.ylabel('Eventos', size=16)\n",
    "#plt.xlabel('Charge (DUQ)', size=16)\n",
    "plt.xlabel('pe', size=16)\n",
    "plt.legend(loc=\"upper right\")\n",
    "plt.grid()\n",
    "#plt.xlim(0,500)\n",
    "#plt.xlim(0,300)\n",
    "#ax.legend(handles=legend_elements, loc=\"upper right\")\n",
    "plt.title('Distribuição da carga de muons verticais \\n'+\n",
    "          'OFF (01/07/2020), ON (01/10/2020)\\n'+\n",
    "          r'(t < 5$\\mu$s)', size=16,y=1.02)\n",
    "#plt.savefig('histogramas/Hist_Mult_Delay_ON_OFF_crit.png')\n",
    "plt.show()\n",
    "\n",
    "print('max pe ON = ',max(h_PDP_ON1))\n",
    "print('max pe OFF = ',max(h_PDP_OFF1))\n",
    "print('10pe = ',fnt_pe2MeV(10),'MeV')\n",
    "print('50pe = ',fnt_pe2MeV(50),'MeV')\n",
    "print('100pe = ',fnt_pe2MeV(100),'MeV')\n",
    "print('150pe = ',fnt_pe2MeV(150),'MeV')\n",
    "print('200pe = ',fnt_pe2MeV(200),'MeV')\n",
    "print('400pe = ',fnt_pe2MeV(400),'MeV')\n",
    "print('600pe = ',fnt_pe2MeV(600),'MeV')\n",
    "print('800pe = ',fnt_pe2MeV(800),'MeV')\n"
   ]
  },
  {
   "cell_type": "code",
   "execution_count": 127,
   "metadata": {},
   "outputs": [
    {
     "data": {
      "image/png": "[encoded data removed]",
      "text/plain": [
       "<matplotlib.figure.Figure at 0x196c4fd6160>"
      ]
     },
     "metadata": {},
     "output_type": "display_data"
    },
    {
     "name": "stdout",
     "output_type": "stream",
     "text": [
      "max pe ON =  1901.8086198050285\n",
      "max pe OFF =  1692.4320164186763\n",
      "10pe =  0.997 MeV\n",
      "50pe =  2.505 MeV\n",
      "100pe =  4.39 MeV\n",
      "150pe =  6.2749999999999995 MeV\n",
      "200pe =  8.159999999999998 MeV\n"
     ]
    }
   ],
   "source": [
    "\n",
    "fig=plt.figure(figsize=(15,10))\n",
    "ax = fig.add_subplot(1, 1, 1)\n",
    "\n",
    "plt.rcParams.update({'font.size': 10})\n",
    "\n",
    "#histograma,steps = np.histogram(h_PDP_ON2,bins=np.arange(400,800,10))\n",
    "histograma1,steps1 = np.histogram(h_PDD_ON1,bins=np.arange(200,800,5))\n",
    "#histograma1_2,steps1_2 = np.histogram(h_PDD_ON1_2,bins=np.arange(0,1300,5))\n",
    "#plt.step(steps1[:-1], histograma1-histograma1_2, label='ON Delay (Michel electron)',color='blue', linewidth=3)\n",
    "plt.step(steps1[:-1], histograma1, label='ON Delay (Michel electron)',color='blue', linewidth=3)\n",
    "\n",
    "histograma2,steps2 = np.histogram(h_PDP_ON1,bins=np.arange(200,800,5))\n",
    "plt.step(steps2[:-1], histograma2, label='ON Prompt (muon)',color='red', linewidth=3)\n",
    "\n",
    "#plt.hist([h_PDP_ON2,h_PDP_OFF2], bins =100, histtype='step', label=['ON','OFF'])\n",
    "plt.ylabel('Eventos', size=16)\n",
    "#plt.xlabel('Charge (DUQ)', size=16)\n",
    "plt.xlabel('pe', size=16)\n",
    "plt.legend(loc=\"upper right\")\n",
    "plt.grid()\n",
    "#plt.xlim(0,300)\n",
    "plt.xlim(100,800)\n",
    "plt.ylim(0,500)\n",
    "\n",
    "plt.title('Distribuição de muons verticais \\n'+\n",
    "          'OFF (01/07/2020), ON (01/10/2020)\\n'+\n",
    "          r'(t < 6$\\mu$s)', size=16,y=1.02)\n",
    "#plt.savefig('histogramas/Hist_Muons_ON_OFF_10d.png')\n",
    "plt.show()\n",
    "\n",
    "print('max pe ON = ',max(h_PDP_ON1))\n",
    "print('max pe OFF = ',max(h_PDP_OFF1))\n",
    "print('10pe = ',fnt_pe2MeV(10),'MeV')\n",
    "print('50pe = ',fnt_pe2MeV(50),'MeV')\n",
    "print('100pe = ',fnt_pe2MeV(100),'MeV')\n",
    "print('150pe = ',fnt_pe2MeV(150),'MeV')\n",
    "print('200pe = ',fnt_pe2MeV(200),'MeV')"
   ]
  },
  {
   "cell_type": "code",
   "execution_count": 141,
   "metadata": {},
   "outputs": [
    {
     "data": {
      "image/png": "[encoded data removed]",
      "text/plain": [
       "<matplotlib.figure.Figure at 0x1969368add8>"
      ]
     },
     "metadata": {},
     "output_type": "display_data"
    },
    {
     "name": "stdout",
     "output_type": "stream",
     "text": [
      "max pe ON =  1901.8086198050285\n",
      "max pe OFF =  1692.4320164186763\n",
      "10pe =  0.997 MeV\n",
      "50pe =  2.505 MeV\n",
      "100pe =  4.39 MeV\n",
      "150pe =  6.2749999999999995 MeV\n",
      "200pe =  8.159999999999998 MeV\n"
     ]
    }
   ],
   "source": [
    "fig=plt.figure(figsize=(15,10))\n",
    "ax = fig.add_subplot(1, 1, 1)\n",
    "\n",
    "plt.rcParams.update({'font.size': 10})\n",
    "\n",
    "histograma1_1,steps1_1 = np.histogram(h_PDD_ON1_1,bins=np.arange(50,1000,18))\n",
    "histograma1_2,steps1_2 = np.histogram(h_PDD_ON1_2,bins=np.arange(50,1000,18))\n",
    "plt.step(steps1_1[:-1], histograma1_1-histograma1_2, label='ON Delay (Michel electron)',color='blue', linewidth=3)\n",
    "\n",
    "plt.ylabel('Eventos', size=16)\n",
    "plt.xlabel('pe', size=16)\n",
    "plt.legend(loc=\"upper right\")\n",
    "plt.grid()\n",
    "#plt.xlim(0,300)\n",
    "plt.ylim(0,150)\n",
    "\n",
    "plt.title('Distribuição de muons verticais \\n'+\n",
    "          'OFF (01/07/2020), ON (01/10/2020)\\n'+\n",
    "          r'(t < 6$\\mu$s)', size=16,y=1.02)\n",
    "#plt.savefig('histogramas/Hist_Muons_ON_OFF_10d.png')\n",
    "plt.show()\n",
    "\n",
    "print('max pe ON = ',max(h_PDP_ON1))\n",
    "print('max pe OFF = ',max(h_PDP_OFF1))\n",
    "print('10pe = ',fnt_pe2MeV(10),'MeV')\n",
    "print('50pe = ',fnt_pe2MeV(50),'MeV')\n",
    "print('100pe = ',fnt_pe2MeV(100),'MeV')\n",
    "print('150pe = ',fnt_pe2MeV(150),'MeV')\n",
    "print('200pe = ',fnt_pe2MeV(200),'MeV')"
   ]
  },
  {
   "cell_type": "markdown",
   "metadata": {},
   "source": [
    "## 10 dias ON / OFF"
   ]
  },
  {
   "cell_type": "code",
   "execution_count": 143,
   "metadata": {},
   "outputs": [
    {
     "data": {
      "image/png": "[encoded data removed]",
      "text/plain": [
       "<matplotlib.figure.Figure at 0x196a9b82860>"
      ]
     },
     "metadata": {},
     "output_type": "display_data"
    },
    {
     "name": "stdout",
     "output_type": "stream",
     "text": [
      "max pe ON =  2005.4899948691639\n",
      "max pe OFF =  1979.5279630579787\n",
      "10pe =  0.997 MeV\n",
      "50pe =  2.505 MeV\n",
      "100pe =  4.39 MeV\n",
      "150pe =  6.2749999999999995 MeV\n",
      "200pe =  8.159999999999998 MeV\n"
     ]
    }
   ],
   "source": [
    "#from matplotlib.lines import Line2D\n",
    "\n",
    "fig=plt.figure(figsize=(15,10))\n",
    "ax = fig.add_subplot(1, 1, 1)\n",
    "\n",
    "plt.rcParams.update({'font.size': 10})\n",
    "\n",
    "plt.hist([h_PDP_ON2,h_PDP_OFF2], bins =100, histtype='step', label=['ON','OFF'], linewidth=2)\n",
    "plt.ylabel('Eventos', size=16)\n",
    "#plt.xlabel('Charge (DUQ)', size=16)\n",
    "plt.xlabel('pe', size=16)\n",
    "plt.legend(loc=\"upper right\")\n",
    "plt.grid()\n",
    "#plt.xlim(0,300)\n",
    "\n",
    "plt.title('Distribuição de muons verticais \\n'+\n",
    "          'OFF (01 - 10/07/2020), ON (01 - 10/10/2020)\\n'+\n",
    "          r'(t < 6$\\mu$s)', size=16,y=1.02)\n",
    "plt.savefig('histogramas/Hist_Muons_ON_OFF_10d.png')\n",
    "plt.show()\n",
    "\n",
    "print('max pe ON = ',max(h_PDP_ON2))\n",
    "print('max pe OFF = ',max(h_PDP_OFF2))\n",
    "print('10pe = ',fnt_pe2MeV(10),'MeV')\n",
    "print('50pe = ',fnt_pe2MeV(50),'MeV')\n",
    "print('100pe = ',fnt_pe2MeV(100),'MeV')\n",
    "print('150pe = ',fnt_pe2MeV(150),'MeV')\n",
    "print('200pe = ',fnt_pe2MeV(200),'MeV')"
   ]
  },
  {
   "cell_type": "code",
   "execution_count": 142,
   "metadata": {},
   "outputs": [
    {
     "data": {
      "image/png": "[encoded data removed]",
      "text/plain": [
       "<matplotlib.figure.Figure at 0x19683762390>"
      ]
     },
     "metadata": {},
     "output_type": "display_data"
    },
    {
     "name": "stdout",
     "output_type": "stream",
     "text": [
      "max pe ON =  2005.4899948691639\n",
      "max pe OFF =  1979.5279630579787\n",
      "10pe =  0.997 MeV\n",
      "50pe =  2.505 MeV\n",
      "100pe =  4.39 MeV\n",
      "150pe =  6.2749999999999995 MeV\n",
      "200pe =  8.159999999999998 MeV\n"
     ]
    }
   ],
   "source": [
    "\n",
    "fig=plt.figure(figsize=(15,10))\n",
    "ax = fig.add_subplot(1, 1, 1)\n",
    "\n",
    "plt.rcParams.update({'font.size': 10})\n",
    "\n",
    "#histograma,steps = np.histogram(h_PDP_ON2,bins=np.arange(400,800,10))\n",
    "histograma1,steps1 = np.histogram(h_PDD_ON2,bins=np.arange(200,800,10))\n",
    "plt.step(steps1[:-1], histograma1, label='ON Delay (Michel electron)',color='blue', linewidth=3)\n",
    "\n",
    "histograma2,steps2 = np.histogram(h_PDP_ON2,bins=np.arange(200,800,10))\n",
    "plt.step(steps2[:-1], histograma2, label='ON Prompt (muon)',color='red', linewidth=3)\n",
    "\n",
    "#plt.hist([h_PDP_ON2,h_PDP_OFF2], bins =100, histtype='step', label=['ON','OFF'])\n",
    "plt.ylabel('Eventos', size=16)\n",
    "#plt.xlabel('Charge (DUQ)', size=16)\n",
    "plt.xlabel('pe', size=16)\n",
    "plt.legend(loc=\"upper right\")\n",
    "plt.grid()\n",
    "#plt.xlim(0,300)\n",
    "\n",
    "plt.title('Distribuição de muons verticais e eletron de Michel \\n'+\n",
    "          'ON (01 - 10/10/2020)\\n'+\n",
    "          r'(t < 6$\\mu$s)', size=16,y=1.02)\n",
    "plt.savefig('histogramas/Hist_Muons_EM_ON_zoom_10d.png')\n",
    "plt.show()\n",
    "\n",
    "print('max pe ON = ',max(h_PDP_ON2))\n",
    "print('max pe OFF = ',max(h_PDP_OFF2))\n",
    "print('10pe = ',fnt_pe2MeV(10),'MeV')\n",
    "print('50pe = ',fnt_pe2MeV(50),'MeV')\n",
    "print('100pe = ',fnt_pe2MeV(100),'MeV')\n",
    "print('150pe = ',fnt_pe2MeV(150),'MeV')\n",
    "print('200pe = ',fnt_pe2MeV(200),'MeV')"
   ]
  },
  {
   "cell_type": "code",
   "execution_count": null,
   "metadata": {},
   "outputs": [],
   "source": [
    "histograma,steps = np.histogram(df['Total_p_charge'],bins=np.arange(0,200000,1000))\n",
    "plt.step(steps[:-1], histograma, label='Data',color='blue', linewidth=3)"
   ]
  },
  {
   "cell_type": "code",
   "execution_count": 108,
   "metadata": {},
   "outputs": [
    {
     "ename": "ValueError",
     "evalue": "arrays must all be same length",
     "output_type": "error",
     "traceback": [
      "\u001b[1;31m---------------------------------------------------------------------------\u001b[0m",
      "\u001b[1;31mValueError\u001b[0m                                Traceback (most recent call last)",
      "\u001b[1;32m<ipython-input-108-d97e58c27c63>\u001b[0m in \u001b[0;36m<module>\u001b[1;34m()\u001b[0m\n\u001b[1;32m----> 1\u001b[1;33m \u001b[0msave_PD\u001b[0m \u001b[1;33m(\u001b[0m\u001b[0mh_PDP_OFF1\u001b[0m\u001b[1;33m,\u001b[0m \u001b[0mh_MUP_OFF1\u001b[0m\u001b[1;33m,\u001b[0m \u001b[0mh_PDD_OFF1\u001b[0m\u001b[1;33m,\u001b[0m \u001b[0mh_MUD_OFF1\u001b[0m\u001b[1;33m,\u001b[0m \u001b[0mh_PDT_OFF1\u001b[0m\u001b[1;33m,\u001b[0m \u001b[0mh_DPMT_OFF1\u001b[0m\u001b[1;33m,\u001b[0m \u001b[1;34m'PD_OFF1_1d_Muons_v1'\u001b[0m\u001b[1;33m)\u001b[0m\u001b[1;33m\u001b[0m\u001b[0m\n\u001b[0m",
      "\u001b[1;32m<ipython-input-16-8a3e76afd0a8>\u001b[0m in \u001b[0;36msave_PD\u001b[1;34m(dh_PDP, dh_MUP, dh_PDD, dh_MUD, dh_PDT, dh_DPMT, sName)\u001b[0m\n\u001b[0;32m     10\u001b[0m \u001b[1;33m\u001b[0m\u001b[0m\n\u001b[0;32m     11\u001b[0m     \u001b[1;31m# creating a dataframe from dictionary\u001b[0m\u001b[1;33m\u001b[0m\u001b[1;33m\u001b[0m\u001b[0m\n\u001b[1;32m---> 12\u001b[1;33m     \u001b[0mdfw\u001b[0m \u001b[1;33m=\u001b[0m \u001b[0mpd\u001b[0m\u001b[1;33m.\u001b[0m\u001b[0mDataFrame\u001b[0m\u001b[1;33m(\u001b[0m\u001b[0mdict\u001b[0m\u001b[1;33m)\u001b[0m\u001b[1;33m\u001b[0m\u001b[0m\n\u001b[0m\u001b[0;32m     13\u001b[0m     \u001b[0mdfw\u001b[0m\u001b[1;33m.\u001b[0m\u001b[0mto_parquet\u001b[0m\u001b[1;33m(\u001b[0m\u001b[1;34m'data/Analise_ONOFF/'\u001b[0m\u001b[1;33m+\u001b[0m\u001b[0msName\u001b[0m\u001b[1;33m+\u001b[0m\u001b[1;34m'.parq'\u001b[0m\u001b[1;33m,\u001b[0m \u001b[0mcompression\u001b[0m\u001b[1;33m=\u001b[0m\u001b[1;34m'gzip'\u001b[0m\u001b[1;33m)\u001b[0m\u001b[1;33m\u001b[0m\u001b[0m\n\u001b[0;32m     14\u001b[0m \u001b[1;33m\u001b[0m\u001b[0m\n",
      "\u001b[1;32m~\\Anaconda3\\lib\\site-packages\\pandas\\core\\frame.py\u001b[0m in \u001b[0;36m__init__\u001b[1;34m(self, data, index, columns, dtype, copy)\u001b[0m\n\u001b[0;32m    346\u001b[0m                                  dtype=dtype, copy=copy)\n\u001b[0;32m    347\u001b[0m         \u001b[1;32melif\u001b[0m \u001b[0misinstance\u001b[0m\u001b[1;33m(\u001b[0m\u001b[0mdata\u001b[0m\u001b[1;33m,\u001b[0m \u001b[0mdict\u001b[0m\u001b[1;33m)\u001b[0m\u001b[1;33m:\u001b[0m\u001b[1;33m\u001b[0m\u001b[0m\n\u001b[1;32m--> 348\u001b[1;33m             \u001b[0mmgr\u001b[0m \u001b[1;33m=\u001b[0m \u001b[0mself\u001b[0m\u001b[1;33m.\u001b[0m\u001b[0m_init_dict\u001b[0m\u001b[1;33m(\u001b[0m\u001b[0mdata\u001b[0m\u001b[1;33m,\u001b[0m \u001b[0mindex\u001b[0m\u001b[1;33m,\u001b[0m \u001b[0mcolumns\u001b[0m\u001b[1;33m,\u001b[0m \u001b[0mdtype\u001b[0m\u001b[1;33m=\u001b[0m\u001b[0mdtype\u001b[0m\u001b[1;33m)\u001b[0m\u001b[1;33m\u001b[0m\u001b[0m\n\u001b[0m\u001b[0;32m    349\u001b[0m         \u001b[1;32melif\u001b[0m \u001b[0misinstance\u001b[0m\u001b[1;33m(\u001b[0m\u001b[0mdata\u001b[0m\u001b[1;33m,\u001b[0m \u001b[0mma\u001b[0m\u001b[1;33m.\u001b[0m\u001b[0mMaskedArray\u001b[0m\u001b[1;33m)\u001b[0m\u001b[1;33m:\u001b[0m\u001b[1;33m\u001b[0m\u001b[0m\n\u001b[0;32m    350\u001b[0m             \u001b[1;32mimport\u001b[0m \u001b[0mnumpy\u001b[0m\u001b[1;33m.\u001b[0m\u001b[0mma\u001b[0m\u001b[1;33m.\u001b[0m\u001b[0mmrecords\u001b[0m \u001b[1;32mas\u001b[0m \u001b[0mmrecords\u001b[0m\u001b[1;33m\u001b[0m\u001b[0m\n",
      "\u001b[1;32m~\\Anaconda3\\lib\\site-packages\\pandas\\core\\frame.py\u001b[0m in \u001b[0;36m_init_dict\u001b[1;34m(self, data, index, columns, dtype)\u001b[0m\n\u001b[0;32m    457\u001b[0m             \u001b[0marrays\u001b[0m \u001b[1;33m=\u001b[0m \u001b[1;33m[\u001b[0m\u001b[0mdata\u001b[0m\u001b[1;33m[\u001b[0m\u001b[0mk\u001b[0m\u001b[1;33m]\u001b[0m \u001b[1;32mfor\u001b[0m \u001b[0mk\u001b[0m \u001b[1;32min\u001b[0m \u001b[0mkeys\u001b[0m\u001b[1;33m]\u001b[0m\u001b[1;33m\u001b[0m\u001b[0m\n\u001b[0;32m    458\u001b[0m \u001b[1;33m\u001b[0m\u001b[0m\n\u001b[1;32m--> 459\u001b[1;33m         \u001b[1;32mreturn\u001b[0m \u001b[0m_arrays_to_mgr\u001b[0m\u001b[1;33m(\u001b[0m\u001b[0marrays\u001b[0m\u001b[1;33m,\u001b[0m \u001b[0mdata_names\u001b[0m\u001b[1;33m,\u001b[0m \u001b[0mindex\u001b[0m\u001b[1;33m,\u001b[0m \u001b[0mcolumns\u001b[0m\u001b[1;33m,\u001b[0m \u001b[0mdtype\u001b[0m\u001b[1;33m=\u001b[0m\u001b[0mdtype\u001b[0m\u001b[1;33m)\u001b[0m\u001b[1;33m\u001b[0m\u001b[0m\n\u001b[0m\u001b[0;32m    460\u001b[0m \u001b[1;33m\u001b[0m\u001b[0m\n\u001b[0;32m    461\u001b[0m     \u001b[1;32mdef\u001b[0m \u001b[0m_init_ndarray\u001b[0m\u001b[1;33m(\u001b[0m\u001b[0mself\u001b[0m\u001b[1;33m,\u001b[0m \u001b[0mvalues\u001b[0m\u001b[1;33m,\u001b[0m \u001b[0mindex\u001b[0m\u001b[1;33m,\u001b[0m \u001b[0mcolumns\u001b[0m\u001b[1;33m,\u001b[0m \u001b[0mdtype\u001b[0m\u001b[1;33m=\u001b[0m\u001b[1;32mNone\u001b[0m\u001b[1;33m,\u001b[0m \u001b[0mcopy\u001b[0m\u001b[1;33m=\u001b[0m\u001b[1;32mFalse\u001b[0m\u001b[1;33m)\u001b[0m\u001b[1;33m:\u001b[0m\u001b[1;33m\u001b[0m\u001b[0m\n",
      "\u001b[1;32m~\\Anaconda3\\lib\\site-packages\\pandas\\core\\frame.py\u001b[0m in \u001b[0;36m_arrays_to_mgr\u001b[1;34m(arrays, arr_names, index, columns, dtype)\u001b[0m\n\u001b[0;32m   7354\u001b[0m     \u001b[1;31m# figure out the index, if necessary\u001b[0m\u001b[1;33m\u001b[0m\u001b[1;33m\u001b[0m\u001b[0m\n\u001b[0;32m   7355\u001b[0m     \u001b[1;32mif\u001b[0m \u001b[0mindex\u001b[0m \u001b[1;32mis\u001b[0m \u001b[1;32mNone\u001b[0m\u001b[1;33m:\u001b[0m\u001b[1;33m\u001b[0m\u001b[0m\n\u001b[1;32m-> 7356\u001b[1;33m         \u001b[0mindex\u001b[0m \u001b[1;33m=\u001b[0m \u001b[0mextract_index\u001b[0m\u001b[1;33m(\u001b[0m\u001b[0marrays\u001b[0m\u001b[1;33m)\u001b[0m\u001b[1;33m\u001b[0m\u001b[0m\n\u001b[0m\u001b[0;32m   7357\u001b[0m \u001b[1;33m\u001b[0m\u001b[0m\n\u001b[0;32m   7358\u001b[0m     \u001b[1;31m# don't force copy because getting jammed in an ndarray anyway\u001b[0m\u001b[1;33m\u001b[0m\u001b[1;33m\u001b[0m\u001b[0m\n",
      "\u001b[1;32m~\\Anaconda3\\lib\\site-packages\\pandas\\core\\frame.py\u001b[0m in \u001b[0;36mextract_index\u001b[1;34m(data)\u001b[0m\n\u001b[0;32m   7400\u001b[0m             \u001b[0mlengths\u001b[0m \u001b[1;33m=\u001b[0m \u001b[0mlist\u001b[0m\u001b[1;33m(\u001b[0m\u001b[0mset\u001b[0m\u001b[1;33m(\u001b[0m\u001b[0mraw_lengths\u001b[0m\u001b[1;33m)\u001b[0m\u001b[1;33m)\u001b[0m\u001b[1;33m\u001b[0m\u001b[0m\n\u001b[0;32m   7401\u001b[0m             \u001b[1;32mif\u001b[0m \u001b[0mlen\u001b[0m\u001b[1;33m(\u001b[0m\u001b[0mlengths\u001b[0m\u001b[1;33m)\u001b[0m \u001b[1;33m>\u001b[0m \u001b[1;36m1\u001b[0m\u001b[1;33m:\u001b[0m\u001b[1;33m\u001b[0m\u001b[0m\n\u001b[1;32m-> 7402\u001b[1;33m                 \u001b[1;32mraise\u001b[0m \u001b[0mValueError\u001b[0m\u001b[1;33m(\u001b[0m\u001b[1;34m'arrays must all be same length'\u001b[0m\u001b[1;33m)\u001b[0m\u001b[1;33m\u001b[0m\u001b[0m\n\u001b[0m\u001b[0;32m   7403\u001b[0m \u001b[1;33m\u001b[0m\u001b[0m\n\u001b[0;32m   7404\u001b[0m             \u001b[1;32mif\u001b[0m \u001b[0mhave_dicts\u001b[0m\u001b[1;33m:\u001b[0m\u001b[1;33m\u001b[0m\u001b[0m\n",
      "\u001b[1;31mValueError\u001b[0m: arrays must all be same length"
     ]
    }
   ],
   "source": [
    "save_PD (h_PDP_OFF1, h_MUP_OFF1, h_PDD_OFF1, h_MUD_OFF1, h_PDT_OFF1, h_DPMT_OFF1, 'PD_OFF1_1d_Muons_v1')"
   ]
  },
  {
   "cell_type": "code",
   "execution_count": 90,
   "metadata": {},
   "outputs": [],
   "source": [
    "h_PDP_OFF1=[]\n",
    "h_MUP_OFF1=[]\n",
    "h_PDD_OFF1=[]\n",
    "h_MUD_OFF1=[]\n",
    "h_PDT_OFF1=[]\n",
    "hg_Sig_OFF1=[]\n",
    "\n",
    "h_PDP_OFF1, h_MUP_OFF1, h_PDD_OFF1, h_MUD_OFF1, h_PDT_OFF1, hg_Sig_OFF1 = load_PD ('PD_OFF1_7d_v2')"
   ]
  },
  {
   "cell_type": "code",
   "execution_count": null,
   "metadata": {},
   "outputs": [],
   "source": []
  },
  {
   "cell_type": "markdown",
   "metadata": {},
   "source": [
    "## Salvando em formato XML"
   ]
  },
  {
   "cell_type": "code",
   "execution_count": 84,
   "metadata": {},
   "outputs": [],
   "source": [
    "import xml.etree.ElementTree as ET\n",
    "\n",
    "##save values - h_Sig_OFF2 (contém o sigma de cada bin dividido por 5dias)\n",
    "def save_XML (dh_Hist, dh_Bins, sName):\n",
    "    # dictionary of lists\n",
    "    #dict = {'Eventos': dh_Hist,\n",
    "    #        'Bin': dh_Bins}\n",
    "    \n",
    "    # creating a dataframe from dictionary\n",
    "    #dfw = pd.DataFrame(dict)\n",
    "    #dfw.to_csv('data/Analise_ONOFF/'+sName+'.csv', index=False, sep=';')\n",
    "    \n",
    "    \n",
    "    data = ET.Element('ONOFF')\n",
    "    \n",
    "    for indh in range(len(dh_Hist)):\n",
    "        e_Hist = str(dh_Hist[indh])\n",
    "        e_Bin = str(dh_Bins[indh])\n",
    " \n",
    "        element1 = ET.SubElement(data, 'Hist')\n",
    "        element2 = ET.SubElement(data, 'Bin')\n",
    "\n",
    "        element1.text = e_Hist\n",
    "        element2.text = e_Bin\n",
    " \n",
    "        #s_elem1 = ET.SubElement(element1, 'E4')\n",
    "        #s_elem2 = ET.SubElement(element1, 'D4')\n",
    " \n",
    "        # Adding attributes to the tags under\n",
    "        #s_elem1.set('type', 'Accepted')\n",
    "        #s_elem2.set('type', 'Declined')\n",
    " \n",
    " \n",
    "    b_xml = ET.tostring(data)\n",
    " \n",
    "    with open('data/Analise_ONOFF/'+sName+'.xml', \"wb\") as f:\n",
    "        f.write(b_xml)\n",
    "    \n",
    "    #del dict\n",
    "\n",
    "##save values - h_Sig_OFF2 (contém o sigma de cada bin dividido por 5dias)\n",
    "#def save_XML_sub (dh_Hist, dh_Bins, dh_Err, sName):\n",
    "    # dictionary of lists\n",
    "#    dict = {'Eventos': dh_Hist,\n",
    "#            'Bin': dh_Bins,\n",
    "#            'Err': dh_Err}\n",
    "    \n",
    "    # creating a dataframe from dictionary\n",
    "#    dfw = pd.DataFrame(dict)\n",
    "#    dfw.to_csv('data/Analise_ONOFF/'+sName+'.csv', index=False, sep=';')\n",
    "\n",
    "#    del dict"
   ]
  },
  {
   "cell_type": "code",
   "execution_count": 85,
   "metadata": {},
   "outputs": [],
   "source": [
    "save_XML (hist_ONO1[1:], bins_ONO1[1:-1], 'ON1_01Out2020_crit_7d_w')"
   ]
  },
  {
   "cell_type": "code",
   "execution_count": null,
   "metadata": {},
   "outputs": [],
   "source": []
  }
 ],
 "metadata": {
  "kernelspec": {
   "display_name": "Python 3",
   "language": "python",
   "name": "python3"
  },
  "language_info": {
   "codemirror_mode": {
    "name": "ipython",
    "version": 3
   },
   "file_extension": ".py",
   "mimetype": "text/x-python",
   "name": "python",
   "nbconvert_exporter": "python",
   "pygments_lexer": "ipython3",
   "version": "3.6.4"
  }
 },
 "nbformat": 4,
 "nbformat_minor": 2
}
