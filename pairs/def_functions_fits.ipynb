{
 "cells": [
  {
   "cell_type": "code",
   "execution_count": null,
   "metadata": {},
   "outputs": [],
   "source": [
    "from collections import Counter\n",
    "import glob\n",
    "import matplotlib.pyplot as plt\n",
    "import matplotlib.ticker as ticker\n",
    "from mpl_toolkits.mplot3d import Axes3D\n",
    "import numpy as np\n",
    "import math\n",
    "from scipy import optimize\n",
    "#from ipywidgets import interact\n",
    "#import ipywidgets as wg\n",
    "import statistics as st\n",
    "from scipy import special"
   ]
  },
  {
   "cell_type": "markdown",
   "metadata": {},
   "source": [
    "# Funções para serem utilizadas com fits"
   ]
  },
  {
   "cell_type": "code",
   "execution_count": null,
   "metadata": {},
   "outputs": [],
   "source": [
    "def fnt_fit_sin(x, a, b):\n",
    "    return a * np.sin(b * x)\n",
    "\n",
    "def fnt_fit_linear(x, ang, lin):\n",
    "    return x*ang+lin\n",
    "\n",
    "def fnt_fit_exp(x, a, b):\n",
    "    return a * np.exp(b * x)\n",
    "\n",
    "def fnt_fit_gauss(x, amp, cen, wid):\n",
    "    #return (amp / (np.sqrt(2*np.pi) * wid)) * np.exp(-(x-cen)**2 / (2*wid**2))\n",
    "    return amp * np.exp(-(x-cen)**2 / wid)\n",
    "\n",
    "def fnt_fit_gauss_2(x, amp, cen, wid):\n",
    "    #return (amp / (np.sqrt(2*np.pi) * wid)) * np.exp(-(x-cen)**2 / (2*wid**2))\n",
    "    return (amp  * np.exp(-(x-cen)**2 / (2*wid**2)))\n",
    "\n",
    "\n",
    "def fnt_fit_passaalta(x, cen, wid):\n",
    "    return (1.0 + special.erf((x-cen) / (wid*math.sqrt(2.0)))) / 2.0\n",
    "\n",
    "def fnt_fit_passabaixa(x, cen, wid):\n",
    "    return (1 - ((1.0 + special.erf((x-cen) / (wid*math.sqrt(2.0)))) / 2.0))\n",
    "\n",
    "def fnt_fit_passa(x, cen, wid):\n",
    "    return (1)\n",
    "\n",
    "def fnt_fit_passabanda(pe): \n",
    "    # 0-150pe passa-alta, 150-400 passa-baixa\n",
    "    params_m= [36.7952354 , 63.94190579, 12.30416433]    #params para EFR de 3MeV\n",
    "    params_c= [ 13.57581613, 287.66548111,  22.42501536] #params para EFR de 10MeV\n",
    "    if (pe<=150):\n",
    "        p = fnt_fit_passaalta(pe, params_m[1], params_m[2])\n",
    "    elif (pe<=370):\n",
    "        p = fnt_fit_passabaixa(pe,params_c[1],params_c[2])\n",
    "    else:\n",
    "        p = 0\n",
    "    return (p)\n",
    "\n",
    "def fnt_fit_decay(x, amp, cen, tau, alt):\n",
    "    return (amp*np.exp(-(x-cen)/tau))+alt\n"
   ]
  },
  {
   "cell_type": "markdown",
   "metadata": {},
   "source": [
    "## Funções de conversão"
   ]
  },
  {
   "cell_type": "code",
   "execution_count": null,
   "metadata": {},
   "outputs": [],
   "source": [
    "\n",
    "def fnt_pe2MeV(x):\n",
    "    return(3.77E-2*x + 0.62)\n",
    "\n",
    "def fnt_DUQ2MeV(x):\n",
    "    return(4.84E-4*x + 0.62)\n",
    "\n",
    "def fnt_MeV2DUQ(x):\n",
    "    return((x - 0.62)/4.84E-4)\n",
    "\n",
    "### E_neutrino = raiz(E_positron^2 + 0,511^2) + 1,3\n",
    "def fnt_Positron2Neutrino(x):\n",
    "    return((x**2 + 0.511**2)**0.5 + 1.3)\n",
    "\n",
    "### E_positron = raiz((E_neutrino - 1,3)^2 - 0,511^2)\n",
    "def fnt_Neutrino2Positron(x):\n",
    "    return(((x - 1.3)**2 - 0.511**2)**0.5)\n"
   ]
  },
  {
   "cell_type": "markdown",
   "metadata": {},
   "source": [
    "## Funções de espectro de neutrinos por elemento combustível"
   ]
  },
  {
   "cell_type": "code",
   "execution_count": null,
   "metadata": {},
   "outputs": [],
   "source": [
    "def fnt_spectrum_neutrino235U(energy):\n",
    "    a = [4.367,-4.577,2.100, -0.5294, 0.06186, -0.002777]\n",
    "    #parametro alfa da função para uranio 239 (ver ref arXiv: 1106.0687v4)\n",
    "    return (np.exp(a[0]+a[1]*energy**1+a[2]*energy**2+a[3]*energy**3+a[4]*energy**4+a[5]*energy**5))\n",
    "\n",
    "def fnt_spectrum_neutrino239Pu(energy):\n",
    "    a = [4.757, -5.392, 2.563, -0.6596, 0.07820, -0.003536]\n",
    "    #parametro alfa da função para uranio 239 (ver ref arXiv: 1106.0687v4)\n",
    "    return (np.exp(a[0]+a[1]*energy**1+a[2]*energy**2+a[3]*energy**3+a[4]*energy**4+a[5]*energy**5))\n",
    "\n",
    "def fnt_spectrum_neutrino241Pu(energy):\n",
    "    a = [2.990, -2.882, 1.278, -0.3343, 0.03905, -0.001754]\n",
    "    #parametro alfa da função para uranio 239 (ver ref arXiv: 1106.0687v4)\n",
    "    return (np.exp(a[0]+a[1]*energy**1+a[2]*energy**2+a[3]*energy**3+a[4]*energy**4+a[5]*energy**5))\n",
    "\n",
    "def fnt_spectrum_neutrino238U(energy):\n",
    "    a = [0.976, -0.162, -0.0790]\n",
    "    #parametro alfa da função para uranio 238 (ver ref arXiv: 0407026)\n",
    "    return (np.exp(a[0]+a[1]*energy**1+a[2]*energy**2))\n",
    "\n",
    "def fnt_cross_section(energy):\n",
    "    m_eletron = 9.10938356E-31\n",
    "    return(9.45E-44*(energy - 1.293)*((energy - 1.293)**2 - m_eletron**2)**0.5)\n"
   ]
  }
 ],
 "metadata": {
  "kernelspec": {
   "display_name": "Python 3",
   "language": "python",
   "name": "python3"
  },
  "language_info": {
   "codemirror_mode": {
    "name": "ipython",
    "version": 3
   },
   "file_extension": ".py",
   "mimetype": "text/x-python",
   "name": "python",
   "nbconvert_exporter": "python",
   "pygments_lexer": "ipython3",
   "version": "3.6.4"
  }
 },
 "nbformat": 4,
 "nbformat_minor": 2
}
